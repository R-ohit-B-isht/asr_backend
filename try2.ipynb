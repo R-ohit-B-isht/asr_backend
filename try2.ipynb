{
 "cells": [
  {
   "cell_type": "code",
   "execution_count": 2,
   "metadata": {},
   "outputs": [
    {
     "name": "stdout",
     "output_type": "stream",
     "text": [
      "Loaded the voice encoder model on cpu in 0.01 seconds.\n",
      "(1917, 256)\n"
     ]
    }
   ],
   "source": [
    "\n",
    "from resemblyzer import preprocess_wav, VoiceEncoder\n",
    "from pathlib import Path\n",
    "\n",
    "#give the file path to your audio file\n",
    "audio_file_path = '../../uploads/VID-20220918-WA0000/audio/VID-20220918-WA0000.wav'\n",
    "wav_fpath = Path(audio_file_path)\n",
    "\n",
    "wav = preprocess_wav(wav_fpath)\n",
    "encoder = VoiceEncoder(\"cpu\")\n",
    "_, cont_embeds, wav_splits = encoder.embed_utterance(wav, return_partials=True, rate=16)\n",
    "print(cont_embeds.shape)\n",
    "\n"
   ]
  },
  {
   "cell_type": "code",
   "execution_count": 7,
   "metadata": {},
   "outputs": [],
   "source": [
    "from spectralcluster import SpectralClusterer\n",
    "\n",
    "clusterer = SpectralClusterer(\n",
    "    min_clusters=1,\n",
    "    max_clusters=100,\n",
    "    # p_percentile=0.90,\n",
    "    # gaussian_blur_sigma=1\n",
    "    )\n",
    "\n",
    "labels = clusterer.predict(cont_embeds)\n",
    "\n",
    "\n",
    "def create_labelling(labels,wav_splits):\n",
    "    from resemblyzer import sampling_rate\n",
    "    times = [((s.start + s.stop) / 2) / sampling_rate for s in wav_splits]\n",
    "    labelling = []\n",
    "    start_time = 0\n",
    "\n",
    "    for i,time in enumerate(times):\n",
    "        if i>0 and labels[i]!=labels[i-1]:\n",
    "            temp = [str(labels[i-1]),start_time,time]\n",
    "            labelling.append(tuple(temp))\n",
    "            start_time = time\n",
    "        if i==len(times)-1:\n",
    "            temp = [str(labels[i]),start_time,time]\n",
    "            labelling.append(tuple(temp))\n",
    "\n",
    "    return labelling\n",
    "  \n",
    "labelling = create_labelling(labels,wav_splits)"
   ]
  },
  {
   "cell_type": "code",
   "execution_count": 6,
   "metadata": {},
   "outputs": [
    {
     "name": "stdout",
     "output_type": "stream",
     "text": [
      "[('0', 0, 11.96), ('1', 11.96, 17.24), ('0', 17.24, 19.1), ('1', 19.1, 19.22), ('0', 19.22, 19.28), ('1', 19.28, 19.34), ('0', 19.34, 20.9), ('1', 20.9, 20.96), ('0', 20.96, 21.02), ('1', 21.02, 23.84), ('0', 23.84, 27.14), ('1', 27.14, 29.48), ('0', 29.48, 31.58), ('1', 31.58, 37.88), ('0', 37.88, 40.4), ('1', 40.4, 41.42), ('0', 41.42, 43.34), ('1', 43.34, 48.8), ('0', 48.8, 51.02), ('1', 51.02, 53.06), ('0', 53.06, 58.76), ('1', 58.76, 59.48), ('0', 59.48, 59.78), ('1', 59.78, 59.84), ('0', 59.84, 61.64), ('1', 61.64, 61.7), ('0', 61.7, 61.88), ('1', 61.88, 62.0), ('0', 62.0, 64.22), ('1', 64.22, 68.72), ('0', 68.72, 69.08), ('1', 69.08, 69.2), ('0', 69.2, 69.5), ('1', 69.5, 81.14), ('0', 81.14, 81.2), ('1', 81.2, 81.26), ('0', 81.26, 81.32), ('1', 81.32, 81.5), ('0', 81.5, 83.12), ('1', 83.12, 87.32), ('0', 87.32, 87.62), ('1', 87.62, 87.68), ('0', 87.68, 87.8), ('1', 87.8, 87.92), ('0', 87.92, 87.98), ('1', 87.98, 89.12), ('0', 89.12, 90.74), ('1', 90.74, 94.22), ('0', 94.22, 96.68), ('1', 96.68, 102.86), ('0', 102.86, 102.92), ('1', 102.92, 102.98), ('0', 102.98, 115.76)]\n"
     ]
    }
   ],
   "source": [
    "print(labelling)"
   ]
  }
 ],
 "metadata": {
  "kernelspec": {
   "display_name": "Python 3",
   "language": "python",
   "name": "python3"
  },
  "language_info": {
   "codemirror_mode": {
    "name": "ipython",
    "version": 3
   },
   "file_extension": ".py",
   "mimetype": "text/x-python",
   "name": "python",
   "nbconvert_exporter": "python",
   "pygments_lexer": "ipython3",
   "version": "3.8.13"
  },
  "orig_nbformat": 4,
  "vscode": {
   "interpreter": {
    "hash": "110cc1dee26208153f2972f08a2ad52b6a56238dc66d48e87fb757ef2996db56"
   }
  }
 },
 "nbformat": 4,
 "nbformat_minor": 2
}
