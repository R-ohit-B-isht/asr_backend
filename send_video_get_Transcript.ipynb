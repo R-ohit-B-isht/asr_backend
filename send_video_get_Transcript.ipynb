{
  "cells": [
    {
      "cell_type": "code",
      "execution_count": null,
      "metadata": {
        "colab": {
          "background_save": true,
          "base_uri": "https://localhost:8080/"
        },
        "id": "rQoEXaTThbzb",
        "outputId": "d925b79b-e1e9-4513-d19b-e647c076c3a9"
      },
      "outputs": [],
      "source": [
        "# Transcript creation code\n",
        "# https://udaaniitb.aicte-india.org:8000/asr/transcript\n",
        "\n",
        "fil='/content/Introduction Week 1： MOOC on Academic Writing (Dr Ajay Semalty).mp4'\n",
        "urler='https://udaaniitb.aicte-india.org:8000/asr/transcript'\n",
        "import requests\n",
        "\n",
        "r = requests.post(urler, files = {'file': open(fil, 'rb')},verify=False)\n",
        "print(r.text)\n",
        "# example 126f36d2-8db6-4bb5-8e26-f55492253c36 id recieved and appended with the url\n",
        "r2= requests.get(urler+'/'+r.text,verify=False)\n",
        "\n",
        "#check till the given url returns success (https://udaaniitb.aicte-india.org:8000/asr/transcript/126f36d2-8db6-4bb5-8e26-f55492253c36)\n",
        "while(r2.text!='SUCCESS'):\n",
        "  r2= requests.get(urler+'/'+r.text,verify=False)\n",
        "\n",
        "# now append result with the url to get transcript (https://udaaniitb.aicte-india.org:8000/asr/transcript/126f36d2-8db6-4bb5-8e26-f55492253c36/result)\n",
        "r3=requests.get(urler+'/'+r.text+'/result',verify=False)\n",
        "with open('./transcript.xml','w',encoding='utf-8')as t:\n",
        "  t.write(r3.text)\n",
        "  print(r3.text)\n",
        "\n",
        "\n"
      ]
    },
    {
      "cell_type": "code",
      "execution_count": null,
      "metadata": {
        "colab": {
          "base_uri": "https://localhost:8080/"
        },
        "id": "4imruBNiLGSv",
        "outputId": "38413eb4-57a9-47d3-ef8b-145bfd164c16"
      },
      "outputs": [],
      "source": [
        "#Translation Code examlpe sending a sentence\n",
        "import requests\n",
        "payload = {\"sentence\": \"you there\"}\n",
        "req = requests.post('https://udaaniitb2.aicte-india.org:8000/udaan_project_layout/translate/en/hi'.format(\"math,phy\", \"1\"), data = payload, verify=False)\n",
        "print(req.json()['translation'])"
      ]
    },
    {
      "cell_type": "code",
      "execution_count": null,
      "metadata": {},
      "outputs": [],
      "source": [
        "#Translation Code examlpe sending a full text file content\n",
        "import sys\n",
        "import requests\n",
        "\n",
        "final_translation=\"\"\n",
        "\n",
        "# In sys.argv[1] = english.txt file and reading each line and generating translation for each line\n",
        "\n",
        "with open(sys.argv[1],'r')as t:\n",
        "\n",
        "  for line in t:\n",
        "    payload = {\"sentence\": line}\n",
        "    req = requests.post('https://udaaniitb2.aicte-india.org:8000/udaan_project_layout/translate/en/hi'.format(\"math,phy\", \"1\"), data = payload, verify=False)\n",
        "    final_translation+=req.json()['translation']+\"\\n\"\n",
        "\n",
        "# writing in file  sys.argv[2] = Hindi.txt \n",
        "with open(sys.argv[2],'w',encoding='utf-8')as tr:\n",
        "  tr.write(final_translation)\n",
        "\n",
        "\n",
        "# creating sys.argv[5]= hindi.xml file \n",
        "\n",
        "with open(sys.argv[5],'w',encoding='utf-8')as t:\n",
        "  t.write('<?xml version=\"1.0\" encoding=\"UTF-8\"?>\\n')\n",
        "  t.write('<transcript lang=\"hindi\">\\n')\n",
        "    # reading each line from hindi.txt\n",
        "  with open(sys.argv[2],'r',encoding='utf-8')as tr:\n",
        "    for line in tr:\n",
        "        t.write('<line timestamp=\"\" speaker=\"Speaker_1\">\\n')\n",
        "        # reading each word        \n",
        "        for word in line.split():\n",
        "            # displaying the words           \n",
        "            t.write('<word timestamp=\"\">')\n",
        "            t.write(word)\n",
        "            t.write('</word>\\n')\n",
        "        t.write('</line>\\n')\n",
        "    t.write('</transcript>\\n')\n",
        "\n",
        "\n",
        "# by comparing sys.argv[4]=English.xml and hindi.xml adding timestamps to hindi.xml\n",
        "count=[]\n",
        "cn1=0\n",
        "cn2=0\n",
        "fu=\"\"\n",
        "with open (sys.argv[4],\"r\",encoding='utf-8') as re:\n",
        "    with open (sys.argv[5],\"r\",encoding='utf-8') as wr:\n",
        "        re1 = re.readline()\n",
        "        wr1 = wr.readline()\n",
        "        while re1 !=\"\":\n",
        "          if \"line timestamp\" in re1:\n",
        "              cn1+=1\n",
        "              count.append(re1)\n",
        "          re1 = re.readline()\n",
        "\n",
        "        while  wr1 != \"\":\n",
        "            \n",
        "            if \"line timestamp\" in wr1:\n",
        "              cn2+=1\n",
        "              wr1=count[cn2-1]\n",
        "            fu+=wr1\n",
        "            wr1 = wr.readline()\n",
        "\n",
        "# writing in final translatedhindi.xml = sys.argv[3]\n",
        "with open (sys.argv[3],\"w\",encoding='utf-8') as wx:\n",
        "  wx.write(fu)\n"
      ]
    }
  ],
  "metadata": {
    "colab": {
      "provenance": []
    },
    "kernelspec": {
      "display_name": "Python 3",
      "language": "python",
      "name": "python3"
    },
    "language_info": {
      "name": "python",
      "version": "3.8.13 (default, Oct  4 2022, 14:00:32) \n[GCC 9.4.0]"
    },
    "vscode": {
      "interpreter": {
        "hash": "110cc1dee26208153f2972f08a2ad52b6a56238dc66d48e87fb757ef2996db56"
      }
    }
  },
  "nbformat": 4,
  "nbformat_minor": 0
}
