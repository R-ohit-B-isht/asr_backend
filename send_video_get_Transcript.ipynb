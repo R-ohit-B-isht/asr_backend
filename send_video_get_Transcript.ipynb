{
  "cells": [
    {
      "cell_type": "code",
      "execution_count": null,
      "metadata": {
        "colab": {
          "background_save": true,
          "base_uri": "https://localhost:8080/"
        },
        "id": "rQoEXaTThbzb",
        "outputId": "d925b79b-e1e9-4513-d19b-e647c076c3a9"
      },
      "outputs": [],
      "source": [
        "# Transcript creation code\n",
        "# https://udaaniitb.aicte-india.org:8000/asr/transcript\n",
        "\n",
        "fil='/content/Introduction Week 1： MOOC on Academic Writing (Dr Ajay Semalty).mp4'\n",
        "urler='https://udaaniitb.aicte-india.org:8000/asr/transcript'\n",
        "import requests\n",
        "\n",
        "r = requests.post(urler, files = {'file': open(fil, 'rb')},verify=False)\n",
        "print(r.text)\n",
        "# example 126f36d2-8db6-4bb5-8e26-f55492253c36 id recieved and appended with the url\n",
        "r2= requests.get(urler+'/'+r.text,verify=False)\n",
        "\n",
        "#check till the given url returns success (https://udaaniitb.aicte-india.org:8000/asr/transcript/126f36d2-8db6-4bb5-8e26-f55492253c36)\n",
        "while(r2.text!='SUCCESS'):\n",
        "  r2= requests.get(urler+'/'+r.text,verify=False)\n",
        "\n",
        "# now append result with the url to get transcript (https://udaaniitb.aicte-india.org:8000/asr/transcript/126f36d2-8db6-4bb5-8e26-f55492253c36/result)\n",
        "r3=requests.get(urler+'/'+r.text+'/result',verify=False)\n",
        "with open('./transcript.xml','w',encoding='utf-8')as t:\n",
        "  t.write(r3.text)\n",
        "  print(r3.text)\n",
        "\n",
        "\n"
      ]
    },
    {
      "cell_type": "code",
      "execution_count": 25,
      "metadata": {},
      "outputs": [
        {
          "name": "stdout",
          "output_type": "stream",
          "text": [
            "8c29960d-8a8a-44e1-bee0-c29ffce117ea\n"
          ]
        },
        {
          "name": "stderr",
          "output_type": "stream",
          "text": [
            "/home/gitpod/.pyenv/versions/3.8.13/lib/python3.8/site-packages/urllib3/connectionpool.py:1045: InsecureRequestWarning: Unverified HTTPS request is being made to host '5000-rohitbisht-asrbackend-zdj0bwgkitf.ws-us80.gitpod.io'. Adding certificate verification is strongly advised. See: https://urllib3.readthedocs.io/en/1.26.x/advanced-usage.html#ssl-warnings\n",
            "  warnings.warn(\n"
          ]
        }
      ],
      "source": [
        "fil='./u/transcriptx.xml'\n",
        "urler='https://5000-rohitbisht-asrbackend-zdj0bwgkitf.ws-us80.gitpod.io/translation'\n",
        "import requests\n",
        "headers={'source_language':'english','destination_language':'hindi'}\n",
        "r = requests.post(urler, files = {'file': open(fil, 'rb')},headers=headers,verify=False)\n",
        "print(r.text)\n",
        "r2= requests.get(urler+'/'+r.text,verify=False)\n",
        "\n",
        "while(r2.text!='SUCCESS'):\n",
        "  r2= requests.get(urler+'/'+r.text,verify=False)\n",
        "\n",
        "r3=requests.get(urler+'/'+r.text+'/result',verify=False)\n",
        "print(r3.text)\n",
        "with open('./transcript.xml','w',encoding='utf-8')as t:\n",
        "  t.write(r3.text)\n",
        "  print(r3.text)"
      ]
    },
    {
      "cell_type": "code",
      "execution_count": null,
      "metadata": {
        "colab": {
          "base_uri": "https://localhost:8080/"
        },
        "id": "4imruBNiLGSv",
        "outputId": "38413eb4-57a9-47d3-ef8b-145bfd164c16"
      },
      "outputs": [],
      "source": [
        "#Translation Code examlpe sending a sentence\n",
        "import requests\n",
        "payload = {\"sentence\": \"you there\"}\n",
        "req = requests.post('https://udaaniitb2.aicte-india.org:8000/udaan_project_layout/translate/en/hi'.format(\"math,phy\", \"1\"), data = payload, verify=False)\n",
        "print(req.json()['translation'])"
      ]
    },
    {
      "cell_type": "code",
      "execution_count": 6,
      "metadata": {},
      "outputs": [
        {
          "ename": "FileNotFoundError",
          "evalue": "[Errno 2] No such file or directory: '--ip=127.0.0.1'",
          "output_type": "error",
          "traceback": [
            "\u001b[0;31m---------------------------------------------------------------------------\u001b[0m",
            "\u001b[0;31mFileNotFoundError\u001b[0m                         Traceback (most recent call last)",
            "Cell \u001b[0;32mIn [6], line 9\u001b[0m\n\u001b[1;32m      5\u001b[0m final_translation\u001b[39m=\u001b[39m\u001b[39m\"\u001b[39m\u001b[39m\"\u001b[39m\n\u001b[1;32m      7\u001b[0m \u001b[39m# In sys.argv[1] = english.txt file and reading each line and generating translation for each line\u001b[39;00m\n\u001b[0;32m----> 9\u001b[0m \u001b[39mwith\u001b[39;00m \u001b[39mopen\u001b[39m(sys\u001b[39m.\u001b[39margv[\u001b[39m1\u001b[39m],\u001b[39m'\u001b[39m\u001b[39mr\u001b[39m\u001b[39m'\u001b[39m)\u001b[39mas\u001b[39;00m t:\n\u001b[1;32m     11\u001b[0m   \u001b[39mfor\u001b[39;00m line \u001b[39min\u001b[39;00m t:\n\u001b[1;32m     12\u001b[0m     payload \u001b[39m=\u001b[39m {\u001b[39m\"\u001b[39m\u001b[39msentence\u001b[39m\u001b[39m\"\u001b[39m: line}\n",
            "\u001b[0;31mFileNotFoundError\u001b[0m: [Errno 2] No such file or directory: '--ip=127.0.0.1'"
          ]
        }
      ],
      "source": [
        "#Translation Code examlpe sending a full text file content\n",
        "import sys\n",
        "import requests\n",
        "\n",
        "final_translation=\"\"\n",
        "\n",
        "# In sys.argv[1] = english.txt file and reading each line and generating translation for each line\n",
        "\n",
        "with open(sys.argv[1],'r')as t:\n",
        "\n",
        "  for line in t:\n",
        "    payload = {\"sentence\": line}\n",
        "    req = requests.post('https://udaaniitb2.aicte-india.org:8000/udaan_project_layout/translate/en/hi'.format(\"math,phy\", \"1\"), data = payload, verify=False)\n",
        "    final_translation+=req.json()['translation']+\"\\n\"\n",
        "\n",
        "# writing in file  sys.argv[2] = Hindi.txt \n",
        "with open(sys.argv[2],'w',encoding='utf-8')as tr:\n",
        "  tr.write(final_translation)\n",
        "\n",
        "\n",
        "# creating sys.argv[5]= hindi.xml file \n",
        "\n",
        "with open(sys.argv[5],'w',encoding='utf-8')as t:\n",
        "  t.write('<?xml version=\"1.0\" encoding=\"UTF-8\"?>\\n')\n",
        "  t.write('<transcript lang=\"hindi\">\\n')\n",
        "    # reading each line from hindi.txt\n",
        "  with open(sys.argv[2],'r',encoding='utf-8')as tr:\n",
        "    for line in tr:\n",
        "        t.write('<line timestamp=\"\" speaker=\"Speaker_1\">\\n')\n",
        "        # reading each word        \n",
        "        for word in line.split():\n",
        "            # displaying the words           \n",
        "            t.write('<word timestamp=\"\">')\n",
        "            t.write(word)\n",
        "            t.write('</word>\\n')\n",
        "        t.write('</line>\\n')\n",
        "    t.write('</transcript>\\n')\n",
        "\n",
        "\n",
        "# by comparing sys.argv[4]=English.xml and hindi.xml adding timestamps to hindi.xml\n",
        "count=[]\n",
        "cn1=0\n",
        "cn2=0\n",
        "fu=\"\"\n",
        "with open (sys.argv[4],\"r\",encoding='utf-8') as re:\n",
        "    with open (sys.argv[5],\"r\",encoding='utf-8') as wr:\n",
        "        re1 = re.readline()\n",
        "        wr1 = wr.readline()\n",
        "        while re1 !=\"\":\n",
        "          if \"line timestamp\" in re1:\n",
        "              cn1+=1\n",
        "              count.append(re1)\n",
        "          re1 = re.readline()\n",
        "\n",
        "        while  wr1 != \"\":\n",
        "            \n",
        "            if \"line timestamp\" in wr1:\n",
        "              cn2+=1\n",
        "              wr1=count[cn2-1]\n",
        "            fu+=wr1\n",
        "            wr1 = wr.readline()\n",
        "\n",
        "# writing in final translatedhindi.xml = sys.argv[3]\n",
        "with open (sys.argv[3],\"w\",encoding='utf-8') as wx:\n",
        "  wx.write(fu)\n"
      ]
    }
  ],
  "metadata": {
    "colab": {
      "provenance": []
    },
    "kernelspec": {
      "display_name": "Python 3",
      "language": "python",
      "name": "python3"
    },
    "language_info": {
      "codemirror_mode": {
        "name": "ipython",
        "version": 3
      },
      "file_extension": ".py",
      "mimetype": "text/x-python",
      "name": "python",
      "nbconvert_exporter": "python",
      "pygments_lexer": "ipython3",
      "version": "3.8.13"
    },
    "vscode": {
      "interpreter": {
        "hash": "110cc1dee26208153f2972f08a2ad52b6a56238dc66d48e87fb757ef2996db56"
      }
    }
  },
  "nbformat": 4,
  "nbformat_minor": 0
}
